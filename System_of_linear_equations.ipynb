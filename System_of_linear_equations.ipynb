{
  "nbformat": 4,
  "nbformat_minor": 0,
  "metadata": {
    "colab": {
      "name": "System of linear equations.ipynb",
      "provenance": []
    },
    "kernelspec": {
      "name": "python3",
      "display_name": "Python 3"
    },
    "language_info": {
      "name": "python"
    }
  },
  "cells": [
    {
      "cell_type": "markdown",
      "source": [
        "**RAHUL KHARE**\n",
        "\n",
        "**52010079**\n",
        "\n",
        "**MCA 4TH SEM**\n",
        "\n",
        "**DATA ANALYTICS ASSIGNMENT**\n",
        "\n",
        "**Solving System of Linear Equations**\n",
        "\n",
        "--- "
      ],
      "metadata": {
        "id": "ItILjpkeAGFj"
      }
    },
    {
      "cell_type": "markdown",
      "source": [
        "Consider the following system of linear equations:\n",
        "\n",
        "x + 2y = 0\n",
        "\n",
        "1.5x -y = 0.5\n",
        "\n",
        "So, to solve the above system of linear equations, we need to find the values of x and y\n",
        "\n",
        "So, these equations can be represented as matrix form by AX = B\n",
        "\n",
        "here  **Matrix A is**\n",
        "\n",
        "matrix A = $\\begin{bmatrix}\n",
        "1 & 2 \\\\\n",
        "1.5 & -1 \\\\\n",
        "\\end{bmatrix}$\n",
        "\n",
        "and is defined as a list:\n",
        "\n",
        "```\n",
        "A = [[1.0, 2.0],[1.5,-1.0]]\n",
        "```\n",
        "\n",
        "or as a numpy array:\n",
        "\n",
        "```python\n",
        "A = np.array([[1.0, 2.0],[1.5,-1.0]])\n",
        "```\n",
        "\n",
        "X = $\\begin{bmatrix}\n",
        "x \\\\ y\n",
        "\\end{bmatrix}$\n",
        "\n",
        "**And Vector B is**\n",
        "\n",
        "B = $\\begin{bmatrix}\n",
        "0 \\\\ 0.5\n",
        "\\end{bmatrix}$\n",
        "\n",
        "So, to find the value of x and y, we need to find the values of the matrix X. To do so, we can take the dot product of the inverse of matrix A, and the matrix B\n",
        "\n",
        "X = inverse(A).B\n",
        "\n",
        "i.e  $X=A^{-1}\\,B$\n",
        "\n",
        "This can be done in following way :-"
      ],
      "metadata": {
        "id": "k5TZ5rB-Airs"
      }
    },
    {
      "cell_type": "code",
      "execution_count": null,
      "metadata": {
        "colab": {
          "base_uri": "https://localhost:8080/"
        },
        "id": "Dkyv594eAEZl",
        "outputId": "837b2a6e-b3e2-4715-ace7-9c3e4dd684de"
      },
      "outputs": [
        {
          "output_type": "stream",
          "name": "stdout",
          "text": [
            "Requirement already satisfied: numpy in /usr/local/lib/python3.7/dist-packages (1.21.5)\n"
          ]
        }
      ],
      "source": [
        "!pip install numpy"
      ]
    },
    {
      "cell_type": "code",
      "source": [
        "import numpy as np"
      ],
      "metadata": {
        "id": "WG7C1oERLvrM"
      },
      "execution_count": null,
      "outputs": []
    },
    {
      "cell_type": "code",
      "source": [
        "A = np.array([[1, 2], [1.5, -1,]])\n",
        "print(A)"
      ],
      "metadata": {
        "colab": {
          "base_uri": "https://localhost:8080/"
        },
        "id": "EO0iGN4rLlDw",
        "outputId": "1fbb4f4c-01ef-4215-ef31-a2501e80ab34"
      },
      "execution_count": null,
      "outputs": [
        {
          "output_type": "stream",
          "name": "stdout",
          "text": [
            "[[ 1.   2. ]\n",
            " [ 1.5 -1. ]]\n"
          ]
        }
      ]
    },
    {
      "cell_type": "code",
      "source": [
        "b = np.array([0,0.5])"
      ],
      "metadata": {
        "id": "-8ZlLVnBL4JW"
      },
      "execution_count": null,
      "outputs": []
    },
    {
      "cell_type": "markdown",
      "source": [
        "Calculating the inverse of matrix A"
      ],
      "metadata": {
        "id": "AeYAhXNWMCZk"
      }
    },
    {
      "cell_type": "code",
      "source": [
        "invA = np.linalg.inv(A)"
      ],
      "metadata": {
        "id": "5bxLQ_TpL_Yf"
      },
      "execution_count": null,
      "outputs": []
    },
    {
      "cell_type": "code",
      "source": [
        "print(invA)"
      ],
      "metadata": {
        "colab": {
          "base_uri": "https://localhost:8080/"
        },
        "id": "kc8qnBvvMx4O",
        "outputId": "53ea106d-909b-46a9-9b39-7623fad0c2c6"
      },
      "execution_count": null,
      "outputs": [
        {
          "output_type": "stream",
          "name": "stdout",
          "text": [
            "[[ 0.25   0.5  ]\n",
            " [ 0.375 -0.25 ]]\n"
          ]
        }
      ]
    },
    {
      "cell_type": "markdown",
      "source": [
        "Calculating the Dot product with matrix B"
      ],
      "metadata": {
        "id": "ryBUsKnhM4JS"
      }
    },
    {
      "cell_type": "code",
      "source": [
        "x = np.dot(invA,b)"
      ],
      "metadata": {
        "id": "WB0a3VFVMuZJ"
      },
      "execution_count": null,
      "outputs": []
    },
    {
      "cell_type": "markdown",
      "source": [
        "Printing Result/Answer"
      ],
      "metadata": {
        "id": "52Ihjt4BNA0x"
      }
    },
    {
      "cell_type": "code",
      "source": [
        "print(x)"
      ],
      "metadata": {
        "colab": {
          "base_uri": "https://localhost:8080/"
        },
        "id": "PUD4q27wM_wS",
        "outputId": "99da22b9-21d4-4d06-8446-acf91a4e984e"
      },
      "execution_count": null,
      "outputs": [
        {
          "output_type": "stream",
          "name": "stdout",
          "text": [
            "[ 0.25  -0.125]\n"
          ]
        }
      ]
    },
    {
      "cell_type": "markdown",
      "source": [
        "So, the solution to the above equations is x = 0.25 and y = -0.125 which satisfies the System of linear equations."
      ],
      "metadata": {
        "id": "YFw4p0QBNoin"
      }
    },
    {
      "cell_type": "markdown",
      "source": [
        "# Example 2 : "
      ],
      "metadata": {
        "id": "DY-xQs5rOyNb"
      }
    },
    {
      "cell_type": "markdown",
      "source": [
        "Let's solve a system of three linear equations which are as follows:\n",
        "\n",
        "x + y + z = 6\n",
        "\n",
        "x -y + z = 2\n",
        "\n",
        "2x - y + 3z = 9\n",
        "\n"
      ],
      "metadata": {
        "id": "FMYKTyiwO9Y2"
      }
    },
    {
      "cell_type": "code",
      "source": [
        "A = np.array([[1, 1, 1], [1, -1, 1], [2, -1, 3]])\n",
        "B = np.array([6, 2, 9])"
      ],
      "metadata": {
        "id": "t2-2wauIPoyP"
      },
      "execution_count": null,
      "outputs": []
    },
    {
      "cell_type": "markdown",
      "source": [
        "Finding inverse of matrix A and multiplying it with matrix B"
      ],
      "metadata": {
        "id": "Tn0OcEz7Tadd"
      }
    },
    {
      "cell_type": "code",
      "source": [
        "invA = np.linalg.inv(A)\n",
        "x = np.dot(invA,B)\n",
        "print(x)"
      ],
      "metadata": {
        "colab": {
          "base_uri": "https://localhost:8080/"
        },
        "id": "oUsM1JqOP3Lx",
        "outputId": "295c5465-784d-4d80-fb86-aed91b8b0684"
      },
      "execution_count": null,
      "outputs": [
        {
          "output_type": "stream",
          "name": "stdout",
          "text": [
            "[1. 2. 3.]\n"
          ]
        }
      ]
    },
    {
      "cell_type": "markdown",
      "source": [
        "so, x=1  |  y=2  |  z=3  is the correct solution and satisfies the System of linear equations.\n",
        "\n"
      ],
      "metadata": {
        "id": "cyYUl-yiVCqk"
      }
    },
    {
      "cell_type": "markdown",
      "source": [
        "Instead of using linalg.inv() and linalg.dot() two separate methods, we can do this in a single step by linalg.solve()"
      ],
      "metadata": {
        "id": "wMXIZX_4QG18"
      }
    },
    {
      "cell_type": "code",
      "source": [
        "A = np.array([[1, 1, 1], [1, -1, 1], [2, -1, 3]])\n",
        "B = np.array([6, 2, 9])\n",
        "X2 = np.linalg.solve(A,B)\n",
        "\n",
        "print(X2)"
      ],
      "metadata": {
        "colab": {
          "base_uri": "https://localhost:8080/"
        },
        "id": "UJjpQa_IQ7Q3",
        "outputId": "58aa0135-3227-42cc-fe2c-1144a3aa255c"
      },
      "execution_count": null,
      "outputs": [
        {
          "output_type": "stream",
          "name": "stdout",
          "text": [
            "[1. 2. 3.]\n"
          ]
        }
      ]
    },
    {
      "cell_type": "markdown",
      "source": [
        "again, we got the same answer using linalg.solve() method also i.e x=1 | y=2 | z=3"
      ],
      "metadata": {
        "id": "xuKaRSZ_Vsqy"
      }
    },
    {
      "cell_type": "markdown",
      "source": [
        "\n",
        "\n",
        "---\n",
        "\n",
        "\n",
        "\n",
        "\n",
        "\n"
      ],
      "metadata": {
        "id": "0vxQjSHaXleV"
      }
    }
  ]
}